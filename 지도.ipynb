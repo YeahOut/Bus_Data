{
 "cells": [
  {
   "cell_type": "code",
   "execution_count": 9,
   "id": "57b74d9a",
   "metadata": {},
   "outputs": [
    {
     "name": "stdout",
     "output_type": "stream",
     "text": [
      "[2023-09-17 19:33:49] 성공 - 3.완주군_버스정류장현황.csv\n"
     ]
    },
    {
     "data": {
      "text/plain": [
       "'3.완주군_버스정류장현황.csv'"
      ]
     },
     "execution_count": 9,
     "metadata": {},
     "output_type": "execute_result"
    }
   ],
   "source": [
    "from geoband.API import *\n",
    "GetCompasData('SBJ_2308_003', '3', '3.완주군_버스정류장현황.csv')"
   ]
  },
  {
   "cell_type": "code",
   "execution_count": 10,
   "id": "f860ecd7",
   "metadata": {},
   "outputs": [
    {
     "name": "stdout",
     "output_type": "stream",
     "text": [
      "[2023-09-17 19:34:04] 성공 - 5.완주군_버스정류장별_승차이력.csv\n"
     ]
    },
    {
     "data": {
      "text/plain": [
       "'5.완주군_버스정류장별_승차이력.csv'"
      ]
     },
     "execution_count": 10,
     "metadata": {},
     "output_type": "execute_result"
    }
   ],
   "source": [
    "from geoband.API import *\n",
    "GetCompasData('SBJ_2308_003', '5', '5.완주군_버스정류장별_승차이력.csv')"
   ]
  },
  {
   "cell_type": "code",
   "execution_count": 18,
   "id": "5dafa1a5",
   "metadata": {},
   "outputs": [],
   "source": [
    "import pandas as pd\n",
    "import folium\n",
    "\n",
    "bus_station_df = pd.read_csv('3.완주군_버스정류장현황.csv')\n",
    "bus_riding_df = pd.read_csv('5.완주군_버스정류장별_승차이력.csv')\n",
    "\n",
    "merged_df = pd.merge(bus_riding_df, bus_station_df, on='bis_id')  # bis_id를 기준으로 조인\n",
    "\n",
    "grouped_df = merged_df.groupby('bis_id').agg({'total_cnt': 'sum'}).reset_index()\n",
    "\n",
    "m = folium.Map(location=[35.83375079, 127.1185573], zoom_start=13)  # 초기 위치와 확대 정도 설정\n",
    "\n",
    "for idx, row in grouped_df.iterrows():\n",
    "    lat = bus_station_df.loc[bus_station_df['bis_id'] == row['bis_id'], 'lat'].iloc[0]\n",
    "    lon = bus_station_df.loc[bus_station_df['bis_id'] == row['bis_id'], 'lon'].iloc[0]\n",
    "    cnt = row['total_cnt']\n",
    "    \n",
    "    color = 'green'\n",
    "    if cnt > 10000:\n",
    "        color = 'red'\n",
    "        \n",
    "    radius_value = min(cnt / 10, 3)\n",
    "        \n",
    "    folium.CircleMarker(\n",
    "        location=[lat, lon],\n",
    "        radius=radius_value,  \n",
    "        color=color,\n",
    "        fill=True,\n",
    "        fill_color=color,\n",
    "        fill_opacity=0.6  \n",
    "    ).add_to(m)\n",
    "\n",
    "\n",
    "m.save('bus_stations_bis_id.html')  \n"
   ]
  }
 ],
 "metadata": {
  "kernelspec": {
   "display_name": "Python 3",
   "language": "python",
   "name": "python3"
  },
  "language_info": {
   "codemirror_mode": {
    "name": "ipython",
    "version": 3
   },
   "file_extension": ".py",
   "mimetype": "text/x-python",
   "name": "python",
   "nbconvert_exporter": "python",
   "pygments_lexer": "ipython3",
   "version": "3.6.9"
  }
 },
 "nbformat": 4,
 "nbformat_minor": 5
}
