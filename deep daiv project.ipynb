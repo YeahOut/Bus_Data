{
 "cells": [
  {
   "cell_type": "code",
   "execution_count": 6,
   "id": "47648fe9",
   "metadata": {},
   "outputs": [],
   "source": [
    "import pandas as pd\n",
    "import numpy as np\n",
    "import matplotlib.pyplot as plt\n",
    "import seaborn as sns"
   ]
  },
  {
   "cell_type": "code",
   "execution_count": 7,
   "id": "d6df0c09",
   "metadata": {},
   "outputs": [],
   "source": [
    "df = pd.read_csv('final_data.csv', encoding = 'cp949')"
   ]
  },
  {
   "cell_type": "code",
   "execution_count": 19,
   "id": "98f3273d",
   "metadata": {},
   "outputs": [],
   "source": [
    "df.head()"
   ]
  },
  {
   "cell_type": "code",
   "execution_count": 18,
   "id": "8610e2f0",
   "metadata": {},
   "outputs": [],
   "source": [
    "df.info()"
   ]
  },
  {
   "cell_type": "markdown",
   "id": "249e2e69",
   "metadata": {},
   "source": [
    "## RMSE 결과 정리\n",
    "1. Linear Regression :0.151\n",
    "2. Polynomial Features : 에러나서 아직 못 구함\n",
    "3. Decision Tree : 0.160 \n",
    "4. Random Forest : 0.142 \n",
    "5. Gradient Boost  0.164 \n",
    "6. XGBoost : 0.163\n",
    "7. LightGBM : 에러나서 아직 못 구함"
   ]
  },
  {
   "cell_type": "markdown",
   "id": "7eba1a9b",
   "metadata": {},
   "source": [
    "### 1. Linear Regression 선형회귀"
   ]
  },
  {
   "cell_type": "code",
   "execution_count": 9,
   "id": "1a9cafa4",
   "metadata": {},
   "outputs": [],
   "source": [
    "from sklearn.model_selection import train_test_split\n",
    "from sklearn.linear_model import LinearRegression\n",
    "from sklearn.metrics import mean_squared_error, r2_score"
   ]
  },
  {
   "cell_type": "code",
   "execution_count": 103,
   "id": "25283104",
   "metadata": {},
   "outputs": [],
   "source": [
    "y_target = df['val']\n",
    "X_data = df[['count', 'nearby_population_200m']]\n",
    "\n",
    "X_train, X_test, y_train, y_test = train_test_split(X_data, y_target, test_size = 0.3, random_state = 156)"
   ]
  },
  {
   "cell_type": "code",
   "execution_count": 105,
   "id": "83536025",
   "metadata": {},
   "outputs": [
    {
     "name": "stdout",
     "output_type": "stream",
     "text": [
      "회귀계수\n",
      " [2.46571572e-06 2.86138191e-05]\n",
      "y 절편\n",
      " -0.008585150826382532\n",
      "결정계수\n",
      " -0.011367262766892372\n",
      "rmse\n",
      " 0.151013752205148\n"
     ]
    }
   ],
   "source": [
    "from sklearn.metrics import mean_squared_error, r2_score\n",
    "\n",
    "model = LinearRegression()\n",
    "model.fit(X_train, y_train)\n",
    "\n",
    "y_preds = model.predict(X_test)\n",
    "r2 = r2_score(y_test, y_preds)\n",
    "mse = mean_squared_error(y_test, y_preds)\n",
    "rmse = np.sqrt(mse)\n",
    "\n",
    "print('회귀계수\\n', model.coef_)\n",
    "print('y 절편\\n', model.intercept_)\n",
    "print('결정계수\\n', r2)\n",
    "print('rmse\\n', rmse)"
   ]
  },
  {
   "cell_type": "markdown",
   "id": "d6947b1c",
   "metadata": {},
   "source": [
    "### 2. Polynomial Features 다항회귀"
   ]
  },
  {
   "cell_type": "code",
   "execution_count": 107,
   "id": "9688a401",
   "metadata": {},
   "outputs": [],
   "source": [
    "from sklearn.preprocessing import PolynomialFeatures\n",
    "import numpy as np"
   ]
  },
  {
   "cell_type": "code",
   "execution_count": 129,
   "id": "844461ef",
   "metadata": {},
   "outputs": [],
   "source": [
    "y_target = df['val']\n",
    "X_data = df[['count', 'nearby_population_200m']]\n",
    "\n",
    "X_train, X_test, y_train, y_test = train_test_split(X_data, y_target, test_size = 0.3, random_state = 156)"
   ]
  },
  {
   "cell_type": "code",
   "execution_count": null,
   "id": "205c1ca4",
   "metadata": {},
   "outputs": [],
   "source": [
    "# 에러.. : ValueError: X has 2 features, but LinearRegression is expecting 6 features as input\n",
    "from sklearn.metrics import mean_squared_error, r2_score\n",
    "\n",
    "poly_ftr = PolynomialFeatures(degree = 2).fit_transform(X_train)\n",
    "\n",
    "model = LinearRegression()\n",
    "model.fit(poly_ftr, y_train)\n",
    "\n",
    "y_preds = model.predict(X_test)\n",
    "r2 = r2_score(y_test, y_preds)\n",
    "mse = mean_squared_error(y_test, y_preds)\n",
    "rmse = np.sqrt(mse)\n",
    "\n",
    "print('회귀 계수\\n', model.coef_)\n",
    "print('y 절편\\n', model.intercept_)\n",
    "print('결정계수\\n', r2)\n",
    "print('rmse\\n', rmse)"
   ]
  },
  {
   "cell_type": "markdown",
   "id": "a6ab52f5",
   "metadata": {},
   "source": [
    "### 3. Decision Tree. Random Forest. Gradient Boosting. XGBoost. (LightGBM)"
   ]
  },
  {
   "cell_type": "code",
   "execution_count": 13,
   "id": "349e6df1",
   "metadata": {},
   "outputs": [],
   "source": [
    "# 입력 모델과 데이터셋을 받아 교차검증으로 평균 RMSE 계산\n",
    "def get_model_cv_prediction(model, X_data, y_target):\n",
    "    neg_mse_scores = cross_val_score(model, X_data, y_target, scoring=\"neg_mean_squared_error\", cv = 5)\n",
    "    rmse_scores  = np.sqrt(-1 * neg_mse_scores)\n",
    "    avg_rmse = np.mean(rmse_scores)\n",
    "    print('##### ',model.__class__.__name__ , ' #####')\n",
    "    print(' 5 교차 검증의 평균 RMSE : {0:.3f} '.format(avg_rmse))"
   ]
  },
  {
   "cell_type": "code",
   "execution_count": 16,
   "id": "ffe16d4b",
   "metadata": {},
   "outputs": [],
   "source": [
    "from sklearn.tree import DecisionTreeRegressor\n",
    "from sklearn.ensemble import GradientBoostingRegressor\n",
    "from xgboost import XGBRegressor\n",
    "from lightgbm import LGBMRegressor"
   ]
  },
  {
   "cell_type": "code",
   "execution_count": 17,
   "id": "85d4aeda",
   "metadata": {},
   "outputs": [],
   "source": [
    "y_target = df['val']\n",
    "X_data = df[['count', 'nearby_population_200m']]\n",
    "\n",
    "X_train, X_test, y_train, y_test = train_test_split(X_data, y_target, test_size = 0.3, random_state = 156)"
   ]
  },
  {
   "cell_type": "code",
   "execution_count": 15,
   "id": "fd30ac0d",
   "metadata": {},
   "outputs": [
    {
     "name": "stdout",
     "output_type": "stream",
     "text": [
      "#####  DecisionTreeRegressor  #####\n",
      " 5 교차 검증의 평균 RMSE : 0.160 \n",
      "#####  RandomForestRegressor  #####\n",
      " 5 교차 검증의 평균 RMSE : 0.142 \n",
      "#####  GradientBoostingRegressor  #####\n",
      " 5 교차 검증의 평균 RMSE : 0.164 \n",
      "#####  XGBRegressor  #####\n",
      " 5 교차 검증의 평균 RMSE : 0.163 \n"
     ]
    }
   ],
   "source": [
    "dt_reg = DecisionTreeRegressor(random_state = 0, max_depth = 4)\n",
    "rf_reg = RandomForestRegressor(random_state = 0, n_estimators = 1000)\n",
    "gb_reg = GradientBoostingRegressor(random_state = 0, n_estimators = 1000)\n",
    "xgb_reg = XGBRegressor(n_estimators = 1000)\n",
    "# lgb_reg = LGBMRegressor(n_estimators = 1000) 에러 나와서 일단 제외\n",
    "\n",
    "models = [dt_reg, rf_reg, gb_reg, xgb_reg]\n",
    "for model in models:  \n",
    "    get_model_cv_prediction(model, X_data, y_target)"
   ]
  },
  {
   "cell_type": "markdown",
   "id": "2787a2e6",
   "metadata": {},
   "source": [
    "--------"
   ]
  },
  {
   "cell_type": "markdown",
   "id": "61b27a02",
   "metadata": {},
   "source": [
    "### ?. AutoML : OSS 방식\n",
    "- https://data-minggeul.tistory.com/12"
   ]
  },
  {
   "cell_type": "code",
   "execution_count": 1,
   "id": "4d020fa9",
   "metadata": {},
   "outputs": [
    {
     "ename": "ModuleNotFoundError",
     "evalue": "No module named 'autosklearn'",
     "output_type": "error",
     "traceback": [
      "\u001b[1;31m---------------------------------------------------------------------------\u001b[0m",
      "\u001b[1;31mModuleNotFoundError\u001b[0m                       Traceback (most recent call last)",
      "Cell \u001b[1;32mIn[1], line 1\u001b[0m\n\u001b[1;32m----> 1\u001b[0m \u001b[38;5;28;01mimport\u001b[39;00m \u001b[38;5;21;01mautosklearn\u001b[39;00m\u001b[38;5;21;01m.\u001b[39;00m\u001b[38;5;21;01mclassification\u001b[39;00m\n",
      "\u001b[1;31mModuleNotFoundError\u001b[0m: No module named 'autosklearn'"
     ]
    }
   ],
   "source": [
    "import autosklearn.classification"
   ]
  },
  {
   "cell_type": "code",
   "execution_count": null,
   "id": "6c218622",
   "metadata": {},
   "outputs": [],
   "source": [
    "clf = autosklearn.classification.AutoSklearnClassifier()\n",
    "clf.fit(X_train, y_train)\n",
    "results = clf.predict(X_test)"
   ]
  },
  {
   "cell_type": "markdown",
   "id": "ea958fcf",
   "metadata": {},
   "source": [
    "### 번외. Random Forest"
   ]
  },
  {
   "cell_type": "code",
   "execution_count": 10,
   "id": "fbfcf235",
   "metadata": {},
   "outputs": [],
   "source": [
    "from sklearn.ensemble import RandomForestRegressor\n",
    "from sklearn.model_selection import train_test_split, cross_val_score"
   ]
  },
  {
   "cell_type": "code",
   "execution_count": 11,
   "id": "6a03f59c",
   "metadata": {},
   "outputs": [],
   "source": [
    "y_target = df['val']\n",
    "X_data = df[['count', 'nearby_population_200m']]\n",
    "\n",
    "X_train, X_test, y_train, y_test = train_test_split(X_data, y_target, test_size = 0.3, random_state = 156)"
   ]
  },
  {
   "cell_type": "code",
   "execution_count": 12,
   "id": "249bb09e",
   "metadata": {},
   "outputs": [
    {
     "name": "stdout",
     "output_type": "stream",
     "text": [
      " 5 교차 검증의 개별 Negative MSE scores:  [-0.04 -0.02 -0.01 -0.02 -0.02]\n",
      " 5 교차 검증의 개별 RMSE scores :  [0.2  0.15 0.08 0.15 0.13]\n",
      " 5 교차 검증의 평균 RMSE : 0.142 \n"
     ]
    }
   ],
   "source": [
    "rf = RandomForestRegressor(random_state = 0, n_estimators = 1000)\n",
    "neg_mse_scores = cross_val_score(rf, X_data, y_target, scoring = \"neg_mean_squared_error\", cv = 5)\n",
    "rmse_scores  = np.sqrt(-1 * neg_mse_scores)\n",
    "avg_rmse = np.mean(rmse_scores)\n",
    "\n",
    "print(' 5 교차 검증의 개별 Negative MSE scores: ', np.round(neg_mse_scores, 2))\n",
    "print(' 5 교차 검증의 개별 RMSE scores : ', np.round(rmse_scores, 2))\n",
    "print(' 5 교차 검증의 평균 RMSE : {0:.3f} '.format(avg_rmse))"
   ]
  }
 ],
 "metadata": {
  "kernelspec": {
   "display_name": "Python 3 (ipykernel)",
   "language": "python",
   "name": "python3"
  },
  "language_info": {
   "codemirror_mode": {
    "name": "ipython",
    "version": 3
   },
   "file_extension": ".py",
   "mimetype": "text/x-python",
   "name": "python",
   "nbconvert_exporter": "python",
   "pygments_lexer": "ipython3",
   "version": "3.10.9"
  }
 },
 "nbformat": 4,
 "nbformat_minor": 5
}
