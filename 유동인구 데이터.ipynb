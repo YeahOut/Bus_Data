{
 "cells": [
  {
   "cell_type": "code",
   "execution_count": 1,
   "id": "88cd0767",
   "metadata": {},
   "outputs": [
    {
     "name": "stdout",
     "output_type": "stream",
     "text": [
      "[2023-09-24 21:01:16] 성공 - 8.완주군_시간대별_유동인구.csv\n"
     ]
    },
    {
     "data": {
      "text/plain": [
       "'8.완주군_시간대별_유동인구.csv'"
      ]
     },
     "execution_count": 1,
     "metadata": {},
     "output_type": "execute_result"
    }
   ],
   "source": [
    "from geoband.API import *\n",
    "GetCompasData('SBJ_2308_003', '8', '8.완주군_시간대별_유동인구.csv')"
   ]
  },
  {
   "cell_type": "code",
   "execution_count": 2,
   "id": "3ccc70d3",
   "metadata": {},
   "outputs": [
    {
     "name": "stderr",
     "output_type": "stream",
     "text": [
      "/opt/app-root/lib/python3.6/site-packages/ipykernel_launcher.py:11: SettingWithCopyWarning: \n",
      "A value is trying to be set on a copy of a slice from a DataFrame.\n",
      "Try using .loc[row_indexer,col_indexer] = value instead\n",
      "\n",
      "See the caveats in the documentation: https://pandas.pydata.org/pandas-docs/stable/user_guide/indexing.html#returning-a-view-versus-a-copy\n",
      "  # This is added back by InteractiveShellApp.init_path()\n"
     ]
    },
    {
     "data": {
      "text/html": [
       "<div>\n",
       "<style scoped>\n",
       "    .dataframe tbody tr th:only-of-type {\n",
       "        vertical-align: middle;\n",
       "    }\n",
       "\n",
       "    .dataframe tbody tr th {\n",
       "        vertical-align: top;\n",
       "    }\n",
       "\n",
       "    .dataframe thead th {\n",
       "        text-align: right;\n",
       "    }\n",
       "</style>\n",
       "<table border=\"1\" class=\"dataframe\">\n",
       "  <thead>\n",
       "    <tr style=\"text-align: right;\">\n",
       "      <th></th>\n",
       "      <th>STD_YM</th>\n",
       "      <th>lon</th>\n",
       "      <th>lat</th>\n",
       "      <th>avg_population</th>\n",
       "    </tr>\n",
       "  </thead>\n",
       "  <tbody>\n",
       "    <tr>\n",
       "      <th>489949</th>\n",
       "      <td>202101</td>\n",
       "      <td>126.995526</td>\n",
       "      <td>35.827597</td>\n",
       "      <td>0.467917</td>\n",
       "    </tr>\n",
       "    <tr>\n",
       "      <th>489950</th>\n",
       "      <td>202101</td>\n",
       "      <td>126.995523</td>\n",
       "      <td>35.828048</td>\n",
       "      <td>0.931250</td>\n",
       "    </tr>\n",
       "    <tr>\n",
       "      <th>489951</th>\n",
       "      <td>202101</td>\n",
       "      <td>126.995520</td>\n",
       "      <td>35.828499</td>\n",
       "      <td>0.597500</td>\n",
       "    </tr>\n",
       "    <tr>\n",
       "      <th>489952</th>\n",
       "      <td>202101</td>\n",
       "      <td>126.996079</td>\n",
       "      <td>35.827600</td>\n",
       "      <td>0.217917</td>\n",
       "    </tr>\n",
       "    <tr>\n",
       "      <th>489953</th>\n",
       "      <td>202101</td>\n",
       "      <td>126.997172</td>\n",
       "      <td>35.829858</td>\n",
       "      <td>0.010000</td>\n",
       "    </tr>\n",
       "    <tr>\n",
       "      <th>...</th>\n",
       "      <td>...</td>\n",
       "      <td>...</td>\n",
       "      <td>...</td>\n",
       "      <td>...</td>\n",
       "    </tr>\n",
       "    <tr>\n",
       "      <th>1111439</th>\n",
       "      <td>202112</td>\n",
       "      <td>127.364371</td>\n",
       "      <td>36.051275</td>\n",
       "      <td>0.008333</td>\n",
       "    </tr>\n",
       "    <tr>\n",
       "      <th>1111440</th>\n",
       "      <td>202112</td>\n",
       "      <td>127.364927</td>\n",
       "      <td>36.050825</td>\n",
       "      <td>0.004167</td>\n",
       "    </tr>\n",
       "    <tr>\n",
       "      <th>1111441</th>\n",
       "      <td>202112</td>\n",
       "      <td>127.365482</td>\n",
       "      <td>36.050826</td>\n",
       "      <td>0.004167</td>\n",
       "    </tr>\n",
       "    <tr>\n",
       "      <th>1111442</th>\n",
       "      <td>202112</td>\n",
       "      <td>127.369932</td>\n",
       "      <td>36.045421</td>\n",
       "      <td>0.010000</td>\n",
       "    </tr>\n",
       "    <tr>\n",
       "      <th>1111443</th>\n",
       "      <td>202112</td>\n",
       "      <td>127.372191</td>\n",
       "      <td>36.021531</td>\n",
       "      <td>0.003333</td>\n",
       "    </tr>\n",
       "  </tbody>\n",
       "</table>\n",
       "<p>621495 rows × 4 columns</p>\n",
       "</div>"
      ],
      "text/plain": [
       "         STD_YM         lon        lat  avg_population\n",
       "489949   202101  126.995526  35.827597        0.467917\n",
       "489950   202101  126.995523  35.828048        0.931250\n",
       "489951   202101  126.995520  35.828499        0.597500\n",
       "489952   202101  126.996079  35.827600        0.217917\n",
       "489953   202101  126.997172  35.829858        0.010000\n",
       "...         ...         ...        ...             ...\n",
       "1111439  202112  127.364371  36.051275        0.008333\n",
       "1111440  202112  127.364927  36.050825        0.004167\n",
       "1111441  202112  127.365482  36.050826        0.004167\n",
       "1111442  202112  127.369932  36.045421        0.010000\n",
       "1111443  202112  127.372191  36.021531        0.003333\n",
       "\n",
       "[621495 rows x 4 columns]"
      ]
     },
     "execution_count": 2,
     "metadata": {},
     "output_type": "execute_result"
    }
   ],
   "source": [
    "import pandas as pd\n",
    "\n",
    "# 데이터 불러오기\n",
    "df = pd.read_csv('8.완주군_시간대별_유동인구.csv')\n",
    "\n",
    "# 2021년 데이터만 필터링\n",
    "df_2021 = df[df['STD_YM'].astype(str).str.startswith('2021')]\n",
    "\n",
    "# 00시부터 24시까지의 평균값 계산\n",
    "time_columns = ['TMST_{:02}'.format(i) for i in range(24)]\n",
    "df_2021['avg_population'] = df_2021[time_columns].mean(axis=1)\n",
    "\n",
    "# 필요한 컬럼만 선택\n",
    "df_2021_avg = df_2021[['STD_YM', 'lon', 'lat', 'avg_population']]\n",
    "\n",
    "df_2021_avg"
   ]
  },
  {
   "cell_type": "code",
   "execution_count": 3,
   "id": "7ee7e1be",
   "metadata": {},
   "outputs": [],
   "source": [
    "# CSV로 저장\n",
    "df_2021_avg.to_csv('2021_population.csv', index=False)"
   ]
  }
 ],
 "metadata": {
  "kernelspec": {
   "display_name": "Python 3",
   "language": "python",
   "name": "python3"
  },
  "language_info": {
   "codemirror_mode": {
    "name": "ipython",
    "version": 3
   },
   "file_extension": ".py",
   "mimetype": "text/x-python",
   "name": "python",
   "nbconvert_exporter": "python",
   "pygments_lexer": "ipython3",
   "version": "3.6.9"
  }
 },
 "nbformat": 4,
 "nbformat_minor": 5
}
